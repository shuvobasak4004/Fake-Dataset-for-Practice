{
 "cells": [
  {
   "cell_type": "code",
   "execution_count": 11,
   "id": "df18a13c",
   "metadata": {},
   "outputs": [
    {
     "name": "stdout",
     "output_type": "stream",
     "text": [
      "Generated extended data for 50000 rows saved to generated_data_extended_50000.csv\n"
     ]
    }
   ],
   "source": [
    "import pandas as pd\n",
    "import random\n",
    "import string\n",
    "\n",
    "# Define the number of rows you want in the dataset\n",
    "num_rows = 50000  # You can change this to the desired number of rows\n",
    "\n",
    "# Function to generate a random phone number\n",
    "def generate_phone_number():\n",
    "    return f\"{random.choice(['017', '018', '019', '015', '016'])}-{''.join(random.choices(string.digits, k=8))}\"\n",
    "\n",
    "# Generate random data\n",
    "data = []\n",
    "for _ in range(num_rows):\n",
    "    phone_number = generate_phone_number()\n",
    "    name = ''.join(random.choices(string.ascii_letters, k=random.randint(5, 10)))\n",
    "    email = f\"{name.lower()}@example.com\"\n",
    "    city = random.choice(['Dhaka', 'Chittagong', 'Rajshahi', 'Khulna', 'Sylhet', 'Barisal'])\n",
    "    age = random.randint(18, 65)\n",
    "    sex = random.choice(['Male', 'Female'])\n",
    "    marital_status = random.choice(['Married', 'Single', 'Divorced', 'Widowed'])\n",
    "    job = random.choice(['Software Engineer', 'Marketing Specialist', 'Accountant', 'Graphic Designer', 'Project Manager'])\n",
    "    income = random.randint(15000, 150000)  # Generating random income between 15000 and 150000\n",
    "    religion = random.choice(['Islam', 'Hinduism', 'Christianity', 'Buddhism', 'Other'])\n",
    "    nationality = 'Bangladeshi'\n",
    "    \n",
    "    data.append([phone_number, name, email, city, age, sex, marital_status, job, income, religion, nationality])\n",
    "\n",
    "# Create a DataFrame from the data\n",
    "columns = ['phone_number', 'name', 'email', 'city', 'age', 'sex', 'married_status', 'job', 'income', 'religion', 'nationality']\n",
    "df = pd.DataFrame(data, columns=columns)\n",
    "\n",
    "# Set the display format for large numbers\n",
    "pd.options.display.float_format = '{:.0f}'.format\n",
    "\n",
    "# Save the DataFrame to a CSV file\n",
    "csv_filename = 'generated_data_extended_50000.csv'\n",
    "df.to_csv(csv_filename, index=False)\n",
    "\n",
    "print(f\"Generated extended data for 50000 rows saved to {csv_filename}\")\n"
   ]
  },
  {
   "cell_type": "code",
   "execution_count": 17,
   "id": "d572ee04",
   "metadata": {},
   "outputs": [
    {
     "name": "stdout",
     "output_type": "stream",
     "text": [
      "Enter a phone number: 019-71430628\n",
      "Details for the input phone number:\n",
      "   phone_number       name                  email   city  age     sex  \\\n",
      "5  019-71430628  RDfYPvsGu  rdfypvsgu@example.com  Dhaka   32  Female   \n",
      "\n",
      "  married_status         job  income religion  nationality  \n",
      "5        Widowed  Accountant   58994    Other  Bangladeshi  \n"
     ]
    }
   ],
   "source": [
    "import pandas as pd\n",
    "\n",
    "# Load the dataset\n",
    "dataset_filename = 'F:/newProject/fake dataset/datainfo.csv'\n",
    "df = pd.read_csv(dataset_filename)\n",
    "\n",
    "# Function to retrieve details based on phone number\n",
    "def get_details_by_phone(phone_number):\n",
    "    details = df[df['phone_number'] == phone_number]\n",
    "    return details\n",
    "\n",
    "# Input a phone number\n",
    "input_phone_number = input(\"Enter a phone number: \")\n",
    "\n",
    "# Get details for the input phone number\n",
    "details = get_details_by_phone(input_phone_number)\n",
    "\n",
    "# Display details\n",
    "if details.empty:\n",
    "    print(\"No details found for the input phone number.\")\n",
    "else:\n",
    "    print(\"Details for the input phone number:\")\n",
    "    print(details)\n"
   ]
  },
  {
   "cell_type": "code",
   "execution_count": null,
   "id": "ad5dbcf8",
   "metadata": {},
   "outputs": [],
   "source": [
    "Title: Fake Dataset for Practice\n",
    "\n",
    "Description:\n",
    "This dataset is created solely for the purpose of practice and learning. \n",
    "It contains entirely fake and fabricated information, including names, \n",
    "phone numbers, emails, cities, ages, and other attributes. None of the \n",
    "information in this dataset corresponds to real individuals or entities. \n",
    "It serves as a resource for those who are learning data manipulation, analysis, \n",
    "and machine learning techniques. Please note that the data is completely fictional \n",
    "and should not be treated as representing any real-world scenarios or individuals.\n",
    "\n",
    "Attributes:\n",
    "- phone_number: Fake phone numbers in various formats.\n",
    "- name: Fictitious names generated for practice purposes.\n",
    "- email: Imaginary email addresses created for the dataset.\n",
    "- city: Made-up city names to simulate geographical diversity.\n",
    "- age: Randomly generated ages for practice analysis.\n",
    "- sex: Simulated gender values (Male, Female).\n",
    "- married_status: Synthetic marital status information.\n",
    "- job: Fictional job titles for practicing data analysis.\n",
    "- income: Fake income values for learning data manipulation.\n",
    "- religion: Pretend religious affiliations for practice.\n",
    "- nationality: Simulated nationalities for practice purposes.\n",
    "\n",
    "Please be aware that this dataset is not based on real data and should be used exclusively for educational purposes.\n"
   ]
  },
  {
   "cell_type": "code",
   "execution_count": null,
   "id": "ee05a92c",
   "metadata": {},
   "outputs": [],
   "source": []
  }
 ],
 "metadata": {
  "kernelspec": {
   "display_name": "Python 3 (ipykernel)",
   "language": "python",
   "name": "python3"
  },
  "language_info": {
   "codemirror_mode": {
    "name": "ipython",
    "version": 3
   },
   "file_extension": ".py",
   "mimetype": "text/x-python",
   "name": "python",
   "nbconvert_exporter": "python",
   "pygments_lexer": "ipython3",
   "version": "3.10.2"
  }
 },
 "nbformat": 4,
 "nbformat_minor": 5
}
